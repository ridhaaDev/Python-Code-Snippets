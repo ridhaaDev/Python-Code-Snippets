{
 "cells": [
  {
   "cell_type": "markdown",
   "metadata": {
    "colab_type": "text",
    "id": "ShegQlg-otj6"
   },
   "source": [
    "## Backpropagation Exercise\n",
    "In this exercise we will use backpropagation to train a multi-layer perceptron (MLP). Multilayer perceptrons can be called the 'basic' variety of neural networks. They have an input layer, a number of hidden layers, and an output layer. First, let's create our input."
   ]
  },
  {
   "cell_type": "markdown",
   "metadata": {
    "colab_type": "text",
    "id": "8x7zgidCnxNk"
   },
   "source": [
    "This code below generates two input values (x) and an output value (y) according to different patterns that are not linear.\n",
    "It also adds a bias term (a vector of 1s) to the input. Adding a bias term to the input like this and initialising it to 1 is a trick that often improves performance. This bias term is not directly updated, but the weight matrix will include a row that, when multiplied with our x_mat_full, does with the bias term what the algorithm deems right for the task."
   ]
  },
  {
   "cell_type": "code",
   "execution_count": 94,
   "metadata": {
    "colab": {},
    "colab_type": "code",
    "id": "cyrVwgpootj_"
   },
   "outputs": [],
   "source": [
    "#Preliminaries\n",
    "from __future__ import division, print_function\n",
    "import numpy as np\n",
    "import matplotlib.pyplot as plt\n",
    "from sklearn.metrics import accuracy_score\n",
    "%matplotlib inline"
   ]
  },
  {
   "cell_type": "code",
   "execution_count": 95,
   "metadata": {
    "colab": {},
    "colab_type": "code",
    "id": "WE_ChNcsc7dt"
   },
   "outputs": [],
   "source": [
    "## create input\n",
    "\n",
    "num_obs = 500\n",
    "x = np.random.uniform(-1,1,size = (num_obs,2))\n",
    "bias = np.ones((num_obs,1))\n",
    "x_mat_full = np.concatenate( (x,bias), axis=1)"
   ]
  },
  {
   "cell_type": "markdown",
   "metadata": {
    "colab_type": "text",
    "id": "s98ssG2YnvCA"
   },
   "source": [
    "We will see how this architecture can model non-linear patterns in data. We will experiment with different non-linear patterns and see how quickly or slowly the weights converge. We start of by picking just one kind of non-linear categorisation."
   ]
  },
  {
   "cell_type": "code",
   "execution_count": 96,
   "metadata": {
    "colab": {
     "base_uri": "https://localhost:8080/",
     "height": 371
    },
    "colab_type": "code",
    "id": "Bm8pPPADotkV",
    "outputId": "5ac4ca55-6e3c-4911-842b-5daafb2af4e9"
   },
   "outputs": [
    {
     "name": "stdout",
     "output_type": "stream",
     "text": [
      "shape of x_mat_full is (500, 3)\n",
      "shape of y is (500,)\n"
     ]
    },
    {
     "data": {
      "text/plain": [
       "<matplotlib.legend.Legend at 0x24b2c7e0dd8>"
      ]
     },
     "execution_count": 96,
     "metadata": {},
     "output_type": "execute_result"
    },
    {
     "data": {
      "image/png": "[encoded data removed]",
      "text/plain": [
       "<Figure size 360x360 with 1 Axes>"
      ]
     },
     "metadata": {
      "needs_background": "light"
     },
     "output_type": "display_data"
    }
   ],
   "source": [
    "# PICK ONE PATTERN BELOW and comment out the rest.\n",
    "\n",
    "# # Circle pattern\n",
    "y = (np.sqrt(x_mat_full[:,0]**2 + x_mat_full[:,1]**2)<.75).astype(int)\n",
    "\n",
    "# # Diamond Pattern\n",
    "# y = ((np.abs(x_mat_full[:,0]) + np.abs(x_mat_full[:,1]))<1).astype(int)\n",
    "\n",
    "# # Centered square\n",
    "# y = ((np.maximum(np.abs(x_mat_full[:,0]), np.abs(x_mat_full[:,1])))<.5).astype(int)\n",
    "\n",
    "# # Thick Right Angle pattern\n",
    "# y = (((np.maximum((x_mat_full[:,0]), (x_mat_full[:,1])))<.5) & ((np.maximum((x_mat_full[:,0]), (x_mat_full[:,1])))>-.5)).astype(int)\n",
    "\n",
    "# # Thin right angle pattern\n",
    "# y = (((np.maximum((x_mat_full[:,0]), (x_mat_full[:,1])))<.5) & ((np.maximum((x_mat_full[:,0]), (x_mat_full[:,1])))>0)).astype(int)\n",
    "\n",
    "print('shape of x_mat_full is {}'.format(x_mat_full.shape))\n",
    "print('shape of y is {}'.format(y.shape))\n",
    "\n",
    "\n",
    "fig, ax = plt.subplots(figsize=(5, 5))\n",
    "ax.plot(x_mat_full[y==1, 0],x_mat_full[y==1, 1], 'ro', label='class 1', color='darkslateblue')\n",
    "ax.plot(x_mat_full[y==0, 0],x_mat_full[y==0, 1], 'bx', label='class 0', color='chocolate')\n",
    "ax.legend(loc='best')"
   ]
  },
  {
   "cell_type": "markdown",
   "metadata": {
    "colab_type": "text",
    "id": "kkxEzuUYoa5G"
   },
   "source": [
    "The code below gives you the building blocks of the MLP up to the backward pass, which you will write yourself."
   ]
  },
  {
   "cell_type": "code",
   "execution_count": 97,
   "metadata": {
    "colab": {},
    "colab_type": "code",
    "id": "ncDNpfVPotkq"
   },
   "outputs": [],
   "source": [
    "def activate(x, deriv=False):\n",
    "    \"\"\" \n",
    "    Based on second argument, either applies the sigmoid activation \n",
    "    function or the derivative of it\n",
    "    \"\"\"\n",
    "    if (deriv == True):\n",
    "        return (x * (1 - x))\n",
    "    return 1 / (1 + np.exp(-x))\n",
    "    \n",
    "\n",
    "def loss_fn(y_true, y_pred, eps=1e-16):\n",
    "    \"\"\"\n",
    "    Loss function we would like to optimize (minimize)\n",
    "    We are using Logarithmic Loss\n",
    "    http://scikit-learn.org/stable/modules/model_evaluation.html#log-loss\n",
    "    \"\"\"\n",
    "    y_pred = np.maximum(y_pred,eps)\n",
    "    y_pred = np.minimum(y_pred,(1-eps))\n",
    "    return -(np.sum(y_true * np.log(y_pred)) + np.sum((1-y_true)*np.log(1-y_pred)))/len(y_true)\n",
    "\n",
    "def forward_pass(x_mat_full, W_1, W_2):\n",
    "    \"\"\"\n",
    "    Does a forward computation of the neural network\n",
    "    Takes the input `x` (global variable) and produces the output `y_pred`\n",
    "    Also produces the gradient of the log loss function\n",
    "    \"\"\"\n",
    "    layer1 = activate(np.dot(x_mat_full, W_1))\n",
    "    y_pred = activate(np.dot(layer1, W_2)) \n",
    "    l2_error = y - y_pred\n",
    "\n",
    "    # Computing error and backpropagation \n",
    "    l2_delta = l2_error * activate(y_pred, deriv=True)\n",
    "    l1_error = l2_delta.dot(W_2.T)\n",
    "    l1_delta = l1_error * activate(layer1, deriv=True)\n",
    "    \n",
    "    # Updating weights\n",
    "    gradient2 = layer1.T.dot(l2_delta)\n",
    "    gradient1 = x_mat_full.T.dot(l1_delta) \n",
    "    \n",
    "    return y_pred, (gradient1, gradient2)\n",
    "\n",
    "def plot_loss_accuracy(loss_vals, accuracies):\n",
    "    fig = plt.figure(figsize=(16, 8))\n",
    "    fig.suptitle('Log Loss and Accuracy over iterations')\n",
    "    \n",
    "    ax = fig.add_subplot(1, 2, 1)\n",
    "    ax.plot(loss_vals)\n",
    "    ax.grid(True)\n",
    "    ax.set(xlabel='iterations', title='Log Loss')\n",
    "    \n",
    "    ax = fig.add_subplot(1, 2, 2)\n",
    "    ax.plot(accuracies)\n",
    "    ax.grid(True)\n",
    "    ax.set(xlabel='iterations', title='Accuracy');"
   ]
  },
  {
   "cell_type": "markdown",
   "metadata": {
    "colab_type": "text",
    "id": "G6GZ0OoMotkS"
   },
   "source": [
    "Fill out the code below so that it creates a multi-layer perceptron with a single hidden layer (with 4 nodes) and trains it via back-propagation.  Specifically your code should:\n",
    "\n",
    "1. Initialize the weights to random values between -1 and 1\n",
    "1. Perform the feed-forward computation\n",
    "1. Compute the loss function\n",
    "1. Calculate the gradients for all the weights via back-propagation\n",
    "1. Update the weight matrices (using a learning_rate parameter)\n",
    "1. Execute steps 2-5 for a fixed number of iterations\n",
    "1. Plot the accuracies and log loss and observe how they change over time"
   ]
  },
  {
   "cell_type": "markdown",
   "metadata": {
    "colab_type": "text",
    "collapsed": true,
    "id": "Sgy71Tkiotkw"
   },
   "source": [
    "First, initialise the parameters. This means determining the following:\n",
    "\n",
    "#### Size of the network\n",
    "\n",
    "Hidden layers (or a single hidden layer in this example) can be any size. Layers with more neurons are more powerful, but also more likely to overfit, and take longer to train.\n",
    "The output layer size corresponds to the number of classes.\n",
    "\n",
    "#### Number of iterations\n",
    "\n",
    "This parameter determines how many times the network will be updated. \n",
    "\n",
    "#### Learning rate\n",
    "\n",
    "Each time we update the weights, we do so by taking a step into the direction that we calculated will improve the accuracy of the network. The size of that step is determined by the learning rate. Taking small steps will slow the process down, but taking steps that are too large can cause results to vary wildly and not reach a stable optimum. "
   ]
  },
  {
   "cell_type": "markdown",
   "metadata": {
    "colab_type": "text",
    "id": "L79qV7hgoowP"
   },
   "source": [
    "Next, fill in the code below to train a multi-layer perceptron and see if it correctly classies the input."
   ]
  },
  {
   "cell_type": "code",
   "execution_count": 98,
   "metadata": {
    "colab": {},
    "colab_type": "code",
    "id": "d3NuckBhZYjG"
   },
   "outputs": [],
   "source": [
    "# Reshaping y\n",
    "y = y.reshape((y.shape[0], 1))\n",
    "\n",
    "# Initializing weights\n",
    "np.random.seed(7)\n",
    "\n",
    "W_1 = 2 * np.random.random((3, 4)) -1\n",
    "W_2 = 2 * np.random.random((4, 1)) -1\n",
    "\n",
    "# Definining number of iterations and learning rate('lr')\n",
    "num_iter = 100000\n",
    "\n",
    "lr = 0.01"
   ]
  },
  {
   "cell_type": "code",
   "execution_count": 99,
   "metadata": {
    "colab": {},
    "colab_type": "code",
    "id": "Y6AHLQxYRBXl"
   },
   "outputs": [],
   "source": [
    "# Creating empty lists for loss values(error) and accuracy\n",
    "loss_vals, accuracies = [], []\n",
    "\n",
    "for j in range(num_iter):\n",
    "    y_pred, (gradient1, gradient2) = forward_pass(x_mat_full, W_1, W_2)\n",
    "    l2_error = y - y_pred # Output layer\n",
    "    \n",
    "    if (j % 10000) == 0:\n",
    "        error = np.mean(np.abs(l2_error))\n",
    "        accuracy = accuracy_score(y, y_pred.round())\n",
    "        loss_vals.append(error)\n",
    "        accuracies.append(accuracy)\n",
    "    \n",
    "    # Updating weights\n",
    "    W_2 += gradient2 * lr \n",
    "    W_1 += gradient1 * lr"
   ]
  },
  {
   "cell_type": "code",
   "execution_count": 100,
   "metadata": {
    "colab": {
     "base_uri": "https://localhost:8080/",
     "height": 554
    },
    "colab_type": "code",
    "id": "ps5lVICiUrVa",
    "outputId": "7c2f4ba2-ee1b-445e-e9b8-c8597e6163f5"
   },
   "outputs": [
    {
     "data": {
      "image/png": "[encoded data removed]",
      "text/plain": [
       "<Figure size 1152x576 with 2 Axes>"
      ]
     },
     "metadata": {
      "needs_background": "light"
     },
     "output_type": "display_data"
    }
   ],
   "source": [
    "# Plotting neural network loss values and accuracy\n",
    "plot_loss_accuracy(loss_vals, accuracies)  "
   ]
  },
  {
   "cell_type": "markdown",
   "metadata": {
    "colab_type": "text",
    "id": "lZrhOVE3-LDM"
   },
   "source": [
    "**Higher number of iterations and lower learning rate seems to improve accuracy**\n"
   ]
  },
  {
   "cell_type": "code",
   "execution_count": null,
   "metadata": {},
   "outputs": [],
   "source": []
  }
 ],
 "metadata": {
  "colab": {
   "collapsed_sections": [],
   "name": "Backprop_Test.ipynb",
   "provenance": []
  },
  "kernelspec": {
   "display_name": "Python 3",
   "language": "python",
   "name": "python3"
  },
  "language_info": {
   "codemirror_mode": {
    "name": "ipython",
    "version": 3
   },
   "file_extension": ".py",
   "mimetype": "text/x-python",
   "name": "python",
   "nbconvert_exporter": "python",
   "pygments_lexer": "ipython3",
   "version": "3.7.3"
  }
 },
 "nbformat": 4,
 "nbformat_minor": 1
}
